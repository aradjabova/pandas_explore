{
 "cells": [
  {
   "cell_type": "code",
   "execution_count": 1,
   "metadata": {},
   "outputs": [
    {
     "name": "stdout",
     "output_type": "stream",
     "text": [
      "Downloading netflix-shows.zip to C:\\Users\\alisa\\coding\\pandas_explore\n",
      "\n"
     ]
    },
    {
     "name": "stderr",
     "output_type": "stream",
     "text": [
      "\n",
      "  0%|          | 0.00/971k [00:00<?, ?B/s]\n",
      "100%|##########| 971k/971k [00:00<00:00, 15.9MB/s]\n"
     ]
    }
   ],
   "source": [
    "!kaggle datasets download -d shivamb/netflix-shows"
   ]
  },
  {
   "cell_type": "code",
   "execution_count": 2,
   "metadata": {},
   "outputs": [
    {
     "name": "stdout",
     "output_type": "stream",
     "text": [
      "Archive:  netflix-shows.zip\n",
      "  inflating: netflix_titles.csv      \n"
     ]
    }
   ],
   "source": [
    "!unzip netflix-shows.zip"
   ]
  },
  {
   "cell_type": "code",
   "execution_count": 3,
   "metadata": {},
   "outputs": [],
   "source": [
    "import pandas as pd"
   ]
  },
  {
   "cell_type": "code",
   "execution_count": 4,
   "metadata": {},
   "outputs": [],
   "source": [
    "df = pd.read_csv(\"netflix_titles.csv\")"
   ]
  },
  {
   "cell_type": "code",
   "execution_count": 6,
   "metadata": {},
   "outputs": [
    {
     "data": {
      "text/html": [
       "<div>\n",
       "<style scoped>\n",
       "    .dataframe tbody tr th:only-of-type {\n",
       "        vertical-align: middle;\n",
       "    }\n",
       "\n",
       "    .dataframe tbody tr th {\n",
       "        vertical-align: top;\n",
       "    }\n",
       "\n",
       "    .dataframe thead th {\n",
       "        text-align: right;\n",
       "    }\n",
       "</style>\n",
       "<table border=\"1\" class=\"dataframe\">\n",
       "  <thead>\n",
       "    <tr style=\"text-align: right;\">\n",
       "      <th></th>\n",
       "      <th>show_id</th>\n",
       "      <th>type</th>\n",
       "      <th>title</th>\n",
       "      <th>director</th>\n",
       "      <th>cast</th>\n",
       "      <th>country</th>\n",
       "      <th>date_added</th>\n",
       "      <th>release_year</th>\n",
       "      <th>rating</th>\n",
       "      <th>duration</th>\n",
       "      <th>listed_in</th>\n",
       "      <th>description</th>\n",
       "    </tr>\n",
       "  </thead>\n",
       "  <tbody>\n",
       "    <tr>\n",
       "      <th>0</th>\n",
       "      <td>81145628</td>\n",
       "      <td>Movie</td>\n",
       "      <td>Norm of the North: King Sized Adventure</td>\n",
       "      <td>Richard Finn, Tim Maltby</td>\n",
       "      <td>Alan Marriott, Andrew Toth, Brian Dobson, Cole...</td>\n",
       "      <td>United States, India, South Korea, China</td>\n",
       "      <td>September 9, 2019</td>\n",
       "      <td>2019</td>\n",
       "      <td>TV-PG</td>\n",
       "      <td>90 min</td>\n",
       "      <td>Children &amp; Family Movies, Comedies</td>\n",
       "      <td>Before planning an awesome wedding for his gra...</td>\n",
       "    </tr>\n",
       "    <tr>\n",
       "      <th>1</th>\n",
       "      <td>80117401</td>\n",
       "      <td>Movie</td>\n",
       "      <td>Jandino: Whatever it Takes</td>\n",
       "      <td>NaN</td>\n",
       "      <td>Jandino Asporaat</td>\n",
       "      <td>United Kingdom</td>\n",
       "      <td>September 9, 2016</td>\n",
       "      <td>2016</td>\n",
       "      <td>TV-MA</td>\n",
       "      <td>94 min</td>\n",
       "      <td>Stand-Up Comedy</td>\n",
       "      <td>Jandino Asporaat riffs on the challenges of ra...</td>\n",
       "    </tr>\n",
       "  </tbody>\n",
       "</table>\n",
       "</div>"
      ],
      "text/plain": [
       "    show_id   type                                    title  \\\n",
       "0  81145628  Movie  Norm of the North: King Sized Adventure   \n",
       "1  80117401  Movie               Jandino: Whatever it Takes   \n",
       "\n",
       "                   director  \\\n",
       "0  Richard Finn, Tim Maltby   \n",
       "1                       NaN   \n",
       "\n",
       "                                                cast  \\\n",
       "0  Alan Marriott, Andrew Toth, Brian Dobson, Cole...   \n",
       "1                                   Jandino Asporaat   \n",
       "\n",
       "                                    country         date_added  release_year  \\\n",
       "0  United States, India, South Korea, China  September 9, 2019          2019   \n",
       "1                            United Kingdom  September 9, 2016          2016   \n",
       "\n",
       "  rating duration                           listed_in  \\\n",
       "0  TV-PG   90 min  Children & Family Movies, Comedies   \n",
       "1  TV-MA   94 min                     Stand-Up Comedy   \n",
       "\n",
       "                                         description  \n",
       "0  Before planning an awesome wedding for his gra...  \n",
       "1  Jandino Asporaat riffs on the challenges of ra...  "
      ]
     },
     "execution_count": 6,
     "metadata": {},
     "output_type": "execute_result"
    }
   ],
   "source": [
    "df.head(2)"
   ]
  },
  {
   "cell_type": "code",
   "execution_count": 7,
   "metadata": {},
   "outputs": [
    {
     "name": "stdout",
     "output_type": "stream",
     "text": [
      "<class 'pandas.core.frame.DataFrame'>\n",
      "RangeIndex: 6234 entries, 0 to 6233\n",
      "Data columns (total 12 columns):\n",
      " #   Column        Non-Null Count  Dtype \n",
      "---  ------        --------------  ----- \n",
      " 0   show_id       6234 non-null   int64 \n",
      " 1   type          6234 non-null   object\n",
      " 2   title         6234 non-null   object\n",
      " 3   director      4265 non-null   object\n",
      " 4   cast          5664 non-null   object\n",
      " 5   country       5758 non-null   object\n",
      " 6   date_added    6223 non-null   object\n",
      " 7   release_year  6234 non-null   int64 \n",
      " 8   rating        6224 non-null   object\n",
      " 9   duration      6234 non-null   object\n",
      " 10  listed_in     6234 non-null   object\n",
      " 11  description   6234 non-null   object\n",
      "dtypes: int64(2), object(10)\n",
      "memory usage: 341.0+ KB\n"
     ]
    }
   ],
   "source": [
    "df.info()"
   ]
  },
  {
   "cell_type": "code",
   "execution_count": 8,
   "metadata": {},
   "outputs": [],
   "source": [
    "df['date_added'] = pd.to_datetime(df['date_added'])\n"
   ]
  },
  {
   "cell_type": "code",
   "execution_count": null,
   "metadata": {},
   "outputs": [],
   "source": []
  },
  {
   "cell_type": "code",
   "execution_count": null,
   "metadata": {},
   "outputs": [],
   "source": []
  },
  {
   "cell_type": "code",
   "execution_count": null,
   "metadata": {},
   "outputs": [],
   "source": []
  }
 ],
 "metadata": {
  "kernelspec": {
   "display_name": "Python 3",
   "language": "python",
   "name": "python3"
  },
  "language_info": {
   "codemirror_mode": {
    "name": "ipython",
    "version": 3
   },
   "file_extension": ".py",
   "mimetype": "text/x-python",
   "name": "python",
   "nbconvert_exporter": "python",
   "pygments_lexer": "ipython3",
   "version": "3.6.12"
  },
  "toc": {
   "base_numbering": 1,
   "nav_menu": {},
   "number_sections": true,
   "sideBar": true,
   "skip_h1_title": false,
   "title_cell": "Table of Contents",
   "title_sidebar": "Contents",
   "toc_cell": false,
   "toc_position": {},
   "toc_section_display": true,
   "toc_window_display": false
  }
 },
 "nbformat": 4,
 "nbformat_minor": 4
}
